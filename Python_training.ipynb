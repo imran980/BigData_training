{
  "nbformat": 4,
  "nbformat_minor": 0,
  "metadata": {
    "colab": {
      "provenance": [],
      "toc_visible": true
    },
    "kernelspec": {
      "name": "python3",
      "display_name": "Python 3"
    },
    "language_info": {
      "name": "python"
    }
  },
  "cells": [
    {
      "cell_type": "markdown",
      "source": [
        "#Datetime Module training"
      ],
      "metadata": {
        "id": "BqfqQ9hvHDEN"
      }
    },
    {
      "cell_type": "markdown",
      "source": [
        "## Day-1"
      ],
      "metadata": {
        "id": "_56zQlwxHR_Z"
      }
    },
    {
      "cell_type": "code",
      "execution_count": null,
      "metadata": {
        "colab": {
          "base_uri": "https://localhost:8080/"
        },
        "id": "9xWduQvzEQbj",
        "outputId": "ebdd001f-93e2-40c6-e71c-16fd7a33d0e2"
      },
      "outputs": [
        {
          "output_type": "stream",
          "name": "stdout",
          "text": [
            "Looking in indexes: https://pypi.org/simple, https://us-python.pkg.dev/colab-wheels/public/simple/\n",
            "Collecting pygrok\n",
            "  Downloading pygrok-1.0.0.tar.gz (18 kB)\n",
            "Requirement already satisfied: regex in /usr/local/lib/python3.8/dist-packages (from pygrok) (2022.6.2)\n",
            "Building wheels for collected packages: pygrok\n",
            "  Building wheel for pygrok (setup.py) ... \u001b[?25l\u001b[?25hdone\n",
            "  Created wheel for pygrok: filename=pygrok-1.0.0-py3-none-any.whl size=21743 sha256=1b4beeaa1c864f15c15505944c2519868e828d07f51ecd44f72953157a744183\n",
            "  Stored in directory: /root/.cache/pip/wheels/4b/88/a1/4a22a23aa70976276e6e68894a14f4f5c29426d7f2004d8a0c\n",
            "Successfully built pygrok\n",
            "Installing collected packages: pygrok\n",
            "Successfully installed pygrok-1.0.0\n"
          ]
        }
      ],
      "source": [
        "!pip install pygrok\n",
        "import datetime\n"
      ]
    },
    {
      "cell_type": "code",
      "source": [
        "#dir(datetime)"
      ],
      "metadata": {
        "id": "6WOMMZWmESNc"
      },
      "execution_count": null,
      "outputs": []
    },
    {
      "cell_type": "code",
      "source": [
        "#help(datetime)"
      ],
      "metadata": {
        "id": "fyLy0g5XtZjw"
      },
      "execution_count": null,
      "outputs": []
    },
    {
      "cell_type": "code",
      "source": [
        "#date1 = input(\"Enter date\")\n",
        "#print(date1)"
      ],
      "metadata": {
        "id": "TFHqJh2SNAEF"
      },
      "execution_count": null,
      "outputs": []
    },
    {
      "cell_type": "code",
      "source": [
        "mydate = \"1966/12/10\"\n",
        "date1 = datetime.datetime.strptime(mydate, \"%Y/%m/%d\")\n",
        "print(date1)"
      ],
      "metadata": {
        "colab": {
          "base_uri": "https://localhost:8080/"
        },
        "id": "FJOY_gMqEUjx",
        "outputId": "4a477b26-0ec0-43bd-c5b7-d506954065fa"
      },
      "execution_count": null,
      "outputs": [
        {
          "output_type": "stream",
          "name": "stdout",
          "text": [
            "1966-12-10 00:00:00\n"
          ]
        }
      ]
    },
    {
      "cell_type": "code",
      "source": [
        "year1 = date1.year"
      ],
      "metadata": {
        "id": "7nJAnLOuL9X6"
      },
      "execution_count": null,
      "outputs": []
    },
    {
      "cell_type": "code",
      "source": [
        "print(year1)"
      ],
      "metadata": {
        "colab": {
          "base_uri": "https://localhost:8080/"
        },
        "id": "vos9zce8Ei7O",
        "outputId": "e0a3962a-c3cf-46de-ffdb-586fd561aed8"
      },
      "execution_count": null,
      "outputs": [
        {
          "output_type": "stream",
          "name": "stdout",
          "text": [
            "1966\n"
          ]
        }
      ]
    },
    {
      "cell_type": "markdown",
      "source": [
        "### 1- Check if leap year"
      ],
      "metadata": {
        "id": "uLeXBMyZEaTO"
      }
    },
    {
      "cell_type": "code",
      "source": [
        "def isleap(year1):   \n",
        "\tif(year1 % 4 == 0):   \n",
        "\t\tprint(\"Year is leap\");  \n",
        "\telse:  \n",
        "\t\tprint (\"Year is not leap\")  \n",
        "isleap(year1)  "
      ],
      "metadata": {
        "colab": {
          "base_uri": "https://localhost:8080/"
        },
        "id": "4Ile2WYtKUXr",
        "outputId": "f4332625-3d5a-4932-d62d-c05a28f68158"
      },
      "execution_count": null,
      "outputs": [
        {
          "output_type": "stream",
          "name": "stdout",
          "text": [
            "Year is not leap\n"
          ]
        }
      ]
    },
    {
      "cell_type": "markdown",
      "source": [
        "## Day-2"
      ],
      "metadata": {
        "id": "ON8hji-SHZOz"
      }
    },
    {
      "cell_type": "markdown",
      "source": [
        "### 2a - Convert a date string into date object"
      ],
      "metadata": {
        "id": "DOraXJd7EgIJ"
      }
    },
    {
      "cell_type": "code",
      "source": [
        "def dateobject(strdate):\n",
        "\tdate1 = datetime.datetime.strptime(strdate, \"%Y/%m/%d %H:%M:%S\")\n",
        "\tprint(type(date1))\n",
        "\tprint(date1)\n",
        "dateobject(\"1966/12/10 10:12:00\")"
      ],
      "metadata": {
        "colab": {
          "base_uri": "https://localhost:8080/"
        },
        "id": "C9vEVwRpK6CM",
        "outputId": "bc7eb05a-c86b-4c70-de5c-37dc4fb947c3"
      },
      "execution_count": null,
      "outputs": [
        {
          "output_type": "stream",
          "name": "stdout",
          "text": [
            "<class 'datetime.datetime'>\n",
            "1966-12-10 10:12:00\n"
          ]
        }
      ]
    },
    {
      "cell_type": "markdown",
      "source": [
        "### 2b - Convert string of any format to datetime object"
      ],
      "metadata": {
        "id": "6if-epm0H820"
      }
    },
    {
      "cell_type": "code",
      "source": [
        "from dateutil import parser\n",
        "\n",
        "def dateobject1(strdate):\n",
        "\tdate2 = parser.parse(strdate)\n",
        "\tprint(\"New date format:\",date2)\n",
        "\tprint(type(date2))\n",
        " \n",
        "dateobject1(\"1966/12/10 10:12:00\")\n"
      ],
      "metadata": {
        "colab": {
          "base_uri": "https://localhost:8080/"
        },
        "id": "mcg-W_TuIG1D",
        "outputId": "687ff7cd-8d52-4b6b-d9c7-b22ba4e98cbc"
      },
      "execution_count": null,
      "outputs": [
        {
          "output_type": "stream",
          "name": "stdout",
          "text": [
            "New date format: 1966-12-10 10:12:00\n",
            "<class 'datetime.datetime'>\n"
          ]
        }
      ]
    },
    {
      "cell_type": "markdown",
      "source": [
        "### 3 - Convert datetime object into string"
      ],
      "metadata": {
        "id": "ZGJjJLsklUcZ"
      }
    },
    {
      "cell_type": "code",
      "source": [
        "\n",
        "def dateobject3():\n",
        "\tstrdate = datetime.datetime.now()\n",
        "\tdate3 = strdate.strftime(\"%d/%m/%Y\")\n",
        "\tprint(\"New date format:\",date3)\n",
        "\tprint(type(date3))\n",
        " \n",
        "dateobject3()"
      ],
      "metadata": {
        "colab": {
          "base_uri": "https://localhost:8080/"
        },
        "id": "0K6b693_kn-u",
        "outputId": "e44af04a-f9e3-4876-fed7-24a1cfbf4af4"
      },
      "execution_count": null,
      "outputs": [
        {
          "output_type": "stream",
          "name": "stdout",
          "text": [
            "New date format: 16/12/2022\n",
            "<class 'str'>\n"
          ]
        }
      ]
    },
    {
      "cell_type": "markdown",
      "source": [
        "### 4 - Difference between dates in seconds"
      ],
      "metadata": {
        "id": "Kt75UgmcI0hX"
      }
    },
    {
      "cell_type": "code",
      "source": [
        "def dateobject4(strdate):\n",
        "\tdtobject = datetime.datetime.strptime(strdate, '%Y/%m/%d %H:%M:%S')\n",
        "\tcurrenttime = datetime.datetime.now()\n",
        "\tdifference = currenttime - dtobject\n",
        "\tdiff_seconds= difference.days * (24 * 60 * 60) + difference.seconds\n",
        "\tprint(\"Difference between the dates seconds:\",diff_seconds)\n",
        " \n",
        "dateobject4('2022/12/11 10:12:00')"
      ],
      "metadata": {
        "colab": {
          "base_uri": "https://localhost:8080/"
        },
        "id": "JRy7rP1CJaFv",
        "outputId": "c45a88e2-0120-446b-c9b0-809e78a4b285"
      },
      "execution_count": null,
      "outputs": [
        {
          "output_type": "stream",
          "name": "stdout",
          "text": [
            "Difference between the dates seconds: 409137\n"
          ]
        }
      ]
    },
    {
      "cell_type": "markdown",
      "source": [
        "### 5 - Convert Unix time into datetime object"
      ],
      "metadata": {
        "id": "YTjEANN1eOKz"
      }
    },
    {
      "cell_type": "code",
      "source": [
        "def dateobject5():\n",
        "\tdatetimeunix = datetime.datetime.fromtimestamp(1670753520) # Unix Time\n",
        "\tprint(\"Datetime object: \",datetimeunix)\n",
        "\n",
        "dateobject5()"
      ],
      "metadata": {
        "colab": {
          "base_uri": "https://localhost:8080/"
        },
        "id": "jMJFLugqeOkH",
        "outputId": "98671c29-3b66-4f5b-dd1f-7b9d437d24ca"
      },
      "execution_count": null,
      "outputs": [
        {
          "output_type": "stream",
          "name": "stdout",
          "text": [
            "Datetime object:  2022-12-11 10:12:00\n"
          ]
        }
      ]
    },
    {
      "cell_type": "markdown",
      "source": [
        "### 6 - Convert datetime object into Unix time"
      ],
      "metadata": {
        "id": "evh7hdIzd4hf"
      }
    },
    {
      "cell_type": "code",
      "source": [
        "def dateobject6(strdate):\n",
        "\tdtobject = datetime.datetime.strptime(strdate, '%Y/%m/%d %H:%M:%S')\n",
        "\tdatetimeunix = dtobject.timestamp()\n",
        "\tprint(\"Datetime object: \",dtobject)\n",
        "\tprint(\"Converted into Unix time: \",datetimeunix)\n",
        "\n",
        "dateobject6('2022/12/11 10:12:00')"
      ],
      "metadata": {
        "colab": {
          "base_uri": "https://localhost:8080/"
        },
        "id": "8T-PbOqYbrBE",
        "outputId": "0476a735-1226-48fc-a19f-6375bc43b138"
      },
      "execution_count": null,
      "outputs": [
        {
          "output_type": "stream",
          "name": "stdout",
          "text": [
            "Datetime object:  2022-12-11 10:12:00\n",
            "Converted into Unix time:  1670753520.0\n"
          ]
        }
      ]
    },
    {
      "cell_type": "markdown",
      "source": [
        "## Day - 3"
      ],
      "metadata": {
        "id": "gtWSbEHUtt8-"
      }
    },
    {
      "cell_type": "markdown",
      "source": [
        "### 7 - Convert timezone of a datetime object"
      ],
      "metadata": {
        "id": "f5sWp6ROg3q2"
      }
    },
    {
      "cell_type": "code",
      "source": [
        "import pytz\n",
        "def dateobject6(strdate, tzone, newtzone):\n",
        "\toldtz = pytz.timezone(tzone)\n",
        "\tnewtz = pytz.timezone(newtzone)\n",
        "\tdtobject = datetime.datetime.strptime(strdate, '%Y/%m/%d %H:%M:%S')\n",
        "\tlocalized_timestamp = oldtz.localize(dtobject)\n",
        "\tnew_timezone_timestamp = localized_timestamp.astimezone(newtz)\n",
        "\tprint(\"Local timestamp: \",localized_timestamp)\n",
        "\tprint(\"Converted timestamp: \",new_timezone_timestamp)\n",
        "\n",
        "dateobject6('2022/12/11 10:12:00','US/Eastern','US/Pacific')"
      ],
      "metadata": {
        "colab": {
          "base_uri": "https://localhost:8080/"
        },
        "id": "FAtNDIJJg_oo",
        "outputId": "78adfde3-f208-4fa3-9861-ea5ab3613945"
      },
      "execution_count": null,
      "outputs": [
        {
          "output_type": "stream",
          "name": "stdout",
          "text": [
            "Local timestamp:  2022-12-11 10:12:00-05:00\n",
            "Converted timestamp:  2022-12-11 07:12:00-08:00\n"
          ]
        }
      ]
    },
    {
      "cell_type": "markdown",
      "source": [
        "### 8a - Read CSV and export data in json format"
      ],
      "metadata": {
        "id": "HYuPWUWyitSI"
      }
    },
    {
      "cell_type": "code",
      "source": [
        "import json\n",
        "import logging\n",
        "\n",
        "filename = '11. apache_logs.txt'\n",
        " \n",
        "def dateobject7(filename):\n",
        "\tdict1 = {}\n",
        "\twith open(filename) as fh:\n",
        "\t\tfor line in fh:\n",
        "\t\t\tcommand, description = line.strip().split(None, 1)\n",
        "\t\t\tdict1[command] = description.strip()\n",
        "\tout_file = open(\"test1.json\", \"w\")\n",
        "\tjson.dump(dict1, out_file, indent = 4, sort_keys = False)\n",
        "\tout_file.close()\n",
        "\n",
        "dateobject7(filename)"
      ],
      "metadata": {
        "id": "7UzIuyBehAP0"
      },
      "execution_count": null,
      "outputs": []
    },
    {
      "cell_type": "markdown",
      "source": [
        "### 8b - Adapter method to loads different files and convert to json"
      ],
      "metadata": {
        "id": "oAl6RP7VFbtM"
      }
    },
    {
      "cell_type": "code",
      "source": [
        "\n",
        "class fileCSV():\n",
        "    \"Loads CSV\"\n",
        "    \n",
        "    def loadcsv(filename):\n",
        "        filename = '11. apache_logs.txt'\n",
        "        print(\"loads csv\")\n",
        "        dict1 = {}\n",
        "        with open(filename) as fh:\n",
        "            for line in fh:\n",
        "                command, description = line.strip().split(None, 1)\n",
        "                dict1[command] = description.strip()\n",
        "        out_file = open(\"test1.json\", \"w\")\n",
        "        json.dump(dict1, out_file, indent = 4, sort_keys = False)\n",
        "        out_file.close()\n",
        "        print(\"converted to json:\",out_file.name)\n",
        "\n",
        "class filetxt():\n",
        "    \"Loads txt\"\n",
        "\n",
        "    def loadstxt(filename):\n",
        "        filename = '11. apache_logs.txt'\n",
        "        print(\"loads txt\")\n",
        "        dict1 = {}\n",
        "        with open(filename) as fh:\n",
        "            for line in fh:\n",
        "                command, description = line.strip().split(None, 1)\n",
        "                dict1[command] = description.strip()\n",
        "        out_file = open(\"test1.json\", \"w\")\n",
        "        json.dump(dict1, out_file, indent = 4, sort_keys = False)\n",
        "        out_file.close()    \n",
        "        print(\"converted to json:\",out_file.name)\n",
        "\n",
        "class CSVTXTAdapter():\n",
        "    \"loads xml if csv is not available\"\n",
        "\n",
        "    def __init__(self):\n",
        "        self.filetxt = filetxt()\n",
        "\n",
        "    def loadcsv(self):\n",
        "        \"calls the class filetxt method loadstxt instead\"\n",
        "        self.filetxt.loadstxt()\n",
        "\n",
        "# The Client\n",
        "# Before the adapter I need to test the objects class to know which\n",
        "# method to call.\n",
        "ITEMS = [fileCSV(), filetxt()]\n",
        "for item in ITEMS:\n",
        "    if isinstance(item, filetxt):\n",
        "        item.loadstxt()\n",
        "    else:\n",
        "        item.loadcsv()\n",
        "\n",
        "# After creating an adapter for ClassB I can reuse the same method\n",
        "# signature as ClassA (preferred)\n",
        "ITEMS = [fileCSV(), CSVTXTAdapter()]\n",
        "for item in ITEMS:\n",
        "    item.loadcsv()"
      ],
      "metadata": {
        "colab": {
          "base_uri": "https://localhost:8080/"
        },
        "id": "9G5tuQrNVsDu",
        "outputId": "fd51e64e-e8d3-4c6d-d69a-fad3cc58bf34"
      },
      "execution_count": null,
      "outputs": [
        {
          "output_type": "stream",
          "name": "stdout",
          "text": [
            "loads csv\n",
            "converted to json: test1.json\n",
            "loads txt\n",
            "converted to json: test1.json\n",
            "loads csv\n",
            "converted to json: test1.json\n",
            "loads txt\n",
            "converted to json: test1.json\n"
          ]
        }
      ]
    },
    {
      "cell_type": "code",
      "source": [
        "\n",
        "\n",
        "from typing import Callable, TypeVar\n",
        "\n",
        "T = TypeVar(\"T\")\n",
        "\n",
        "\n",
        "class Dog:\n",
        "    def __init__(self) -> None:\n",
        "        self.name = \"Dog\"\n",
        "\n",
        "    def bark(self) -> str:\n",
        "        return \"woof!\"\n",
        "\n",
        "\n",
        "class Cat:\n",
        "    def __init__(self) -> None:\n",
        "        self.name = \"Cat\"\n",
        "\n",
        "    def meow(self) -> str:\n",
        "        return \"meow!\"\n",
        "\n",
        "\n",
        "class Human:\n",
        "    def __init__(self) -> None:\n",
        "        self.name = \"Human\"\n",
        "\n",
        "    def speak(self) -> str:\n",
        "        return \"'hello'\"\n",
        "\n",
        "\n",
        "class Car:\n",
        "    def __init__(self) -> None:\n",
        "        self.name = \"Car\"\n",
        "\n",
        "    def make_noise(self, octane_level: int) -> str:\n",
        "        return f\"vroom{'!' * octane_level}\"\n",
        "\n",
        "\n",
        "class Adapter:\n",
        "    \"\"\"Adapts an object by replacing methods.\n",
        "\n",
        "    Usage\n",
        "    ------\n",
        "    dog = Dog()\n",
        "    dog = Adapter(dog, make_noise=dog.bark)\n",
        "    \"\"\"\n",
        "\n",
        "    def __init__(self, obj: T, **adapted_methods: Callable):\n",
        "        \"\"\"We set the adapted methods in the object's dict.\"\"\"\n",
        "        self.obj = obj\n",
        "        self.__dict__.update(adapted_methods)\n",
        "\n",
        "    def __getattr__(self, attr):\n",
        "        \"\"\"All non-adapted calls are passed to the object.\"\"\"\n",
        "        return getattr(self.obj, attr)\n",
        "\n",
        "    def original_dict(self):\n",
        "        \"\"\"Print original object dict.\"\"\"\n",
        "        return self.obj.__dict__\n",
        "\n",
        "\n",
        "def main():\n",
        "    \"\"\"\n",
        "    >>> objects = []\n",
        "    >>> dog = Dog()\n",
        "    >>> print(dog.__dict__)\n",
        "    {'name': 'Dog'}\n",
        "\n",
        "    >>> objects.append(Adapter(dog, make_noise=dog.bark))\n",
        "\n",
        "    >>> objects[0].__dict__['obj'], objects[0].__dict__['make_noise']\n",
        "    (<...Dog object at 0x...>, <bound method Dog.bark of <...Dog object at 0x...>>)\n",
        "\n",
        "    >>> print(objects[0].original_dict())\n",
        "    {'name': 'Dog'}\n",
        "\n",
        "    >>> cat = Cat()\n",
        "    >>> objects.append(Adapter(cat, make_noise=cat.meow))\n",
        "    >>> human = Human()\n",
        "    >>> objects.append(Adapter(human, make_noise=human.speak))\n",
        "    >>> car = Car()\n",
        "    >>> objects.append(Adapter(car, make_noise=lambda: car.make_noise(3)))\n",
        "\n",
        "    >>> for obj in objects:\n",
        "    ...    print(\"A {0} goes {1}\".format(obj.name, obj.make_noise()))\n",
        "    A Dog goes woof!\n",
        "    A Cat goes meow!\n",
        "    A Human goes 'hello'\n",
        "    A Car goes vroom!!!\n",
        "    \"\"\"\n",
        "\n",
        "\n",
        "if __name__ == \"__main__\":\n",
        "    import doctest\n",
        "\n",
        "    doctest.testmod(optionflags=doctest.ELLIPSIS)"
      ],
      "metadata": {
        "id": "ZFqhyeK_Akkv"
      },
      "execution_count": null,
      "outputs": []
    },
    {
      "cell_type": "code",
      "source": [],
      "metadata": {
        "id": "JRf16me-EE97"
      },
      "execution_count": null,
      "outputs": []
    },
    {
      "cell_type": "markdown",
      "source": [
        "### 9b - Load logs into json file using Grok"
      ],
      "metadata": {
        "id": "d7ChRa_TDyr9"
      }
    },
    {
      "cell_type": "code",
      "source": [
        "from pygrok import Grok\n",
        "filename = '11. apache_logs.txt'\n",
        "out_file = open(\"grokfile.json\", \"w\")\n",
        "def dateobject8(filename):\n",
        "\twith open(filename) as fh:\n",
        "\t\tfor text in fh:\n",
        "\t\t\tpattern = '%{IP:ip} - - \\[%{HTTPDATE:timestamp}\\] \"%{WORD:verb} %{DATA:request}\" %{NUMBER:status} %{NUMBER:bytes} \"%{URI:uri}\"'\n",
        "\t\t\t#pattern = '%{IP:ip:int} – – \\[%{HTTPDATE:timestamp}\\] \"%{WORD:verb} %{DATA:request}\" %{NUMBER:status} %{NUMBER:bytes}\"%{DATA:referrer}\"%{DATA}\\(%{WORD};%{DATA}; %{WORD:os}'\n",
        "\t\t\tgrok = Grok(pattern)\n",
        "\t\t\tg = grok.match(text)\n",
        "\t\t\tjson.dump(g, out_file, indent = 4, sort_keys = False)\n",
        "\t\t\t#print(g)  \n",
        "\n",
        "dateobject8(filename)\n",
        "out_file.close()"
      ],
      "metadata": {
        "id": "tTW5IwbeL9L8"
      },
      "execution_count": null,
      "outputs": []
    },
    {
      "cell_type": "code",
      "source": [],
      "metadata": {
        "id": "IoD_YSjjQKR_"
      },
      "execution_count": null,
      "outputs": []
    },
    {
      "cell_type": "code",
      "source": [
        "func = lambda x: x+5\n",
        "print(func(2))\n",
        "\n",
        "func1 = lambda x, y: x+y\n",
        "print(func1(2,2))\n",
        "\n",
        "a = [1,4,6,7,8,11,3,4,6]\n",
        "mylist = list(filter(lambda x: x%2 == 0, a))\n",
        "print(mylist)\n",
        "\n",
        "print(reversed(mylist))\n"
      ],
      "metadata": {
        "colab": {
          "base_uri": "https://localhost:8080/"
        },
        "id": "UXD6VGQ4-9mA",
        "outputId": "6a10b3be-e9f0-47e6-fa3f-b070023404d1"
      },
      "execution_count": null,
      "outputs": [
        {
          "output_type": "stream",
          "name": "stdout",
          "text": [
            "7\n",
            "4\n",
            "[4, 6, 8, 4, 6]\n",
            "<list_reverseiterator object at 0x7f061c79e550>\n"
          ]
        }
      ]
    },
    {
      "cell_type": "markdown",
      "source": [
        "## Day - 4"
      ],
      "metadata": {
        "id": "GVMT1-Czt2ZK"
      }
    },
    {
      "cell_type": "markdown",
      "source": [
        "### 10 - finding palindromes"
      ],
      "metadata": {
        "id": "5ORWr0fhDpN4"
      }
    },
    {
      "cell_type": "code",
      "source": [
        "mylist = [\"aabc\", \"bbc\", \"aaaab\", \"aaabaaa\", \"nice\", \"abba\"]\n",
        "#result = list(map(lambda x: (x == \"\".join(reversed(x))), mylist)) \n",
        "result = list(filter(lambda x: (x == \"\".join(reversed(x))), mylist)) \n",
        "print(\"Palindromes: \",result)"
      ],
      "metadata": {
        "colab": {
          "base_uri": "https://localhost:8080/"
        },
        "id": "N76jy-9U35oa",
        "outputId": "3b888665-cdf6-4690-8cc0-7c571aeb8f31"
      },
      "execution_count": null,
      "outputs": [
        {
          "output_type": "stream",
          "name": "stdout",
          "text": [
            "Palindromes:  ['aaabaaa', 'abba']\n"
          ]
        }
      ]
    },
    {
      "cell_type": "markdown",
      "source": [
        "### 11 - Sort list of dictionaries"
      ],
      "metadata": {
        "id": "55GR78ZstITR"
      }
    },
    {
      "cell_type": "code",
      "source": [
        "dic = [{'name':'imran', 'cnic':4, 'age':'10'}, {'name':'Adnan', 'cnic':4, 'age':'80'},{'name':'Khan', 'cnic':4, 'age':'99'},{'name':'Ali', 'cnic':1, 'age':'99'},]\n",
        "sorted = sorted(dic, key = lambda x: x['cnic'])\n",
        "print(\"Sorted list based on cnic :\\n\",sorted)\n"
      ],
      "metadata": {
        "colab": {
          "base_uri": "https://localhost:8080/"
        },
        "id": "xDI7NuYOGTRb",
        "outputId": "0d7d6e31-5000-4dda-f139-f2a7a8bbcfa7"
      },
      "execution_count": null,
      "outputs": [
        {
          "output_type": "stream",
          "name": "stdout",
          "text": [
            "Sorted list based on cnic :\n",
            " [{'name': 'Ali', 'cnic': 1, 'age': '99'}, {'name': 'imran', 'cnic': 4, 'age': '10'}, {'name': 'Adnan', 'cnic': 4, 'age': '80'}, {'name': 'Khan', 'cnic': 4, 'age': '99'}]\n"
          ]
        }
      ]
    },
    {
      "cell_type": "markdown",
      "source": [
        "### 12 - Find sum of even numbers between a and b if b > a"
      ],
      "metadata": {
        "id": "wYEfQvWbtRnO"
      }
    },
    {
      "cell_type": "code",
      "source": [
        "\n",
        "from functools import reduce \n",
        "def sum(a,b):\n",
        "    return a + b\n",
        "def evensum(a,b):\n",
        "    if b > a:\n",
        "      a = reduce(sum,[x for x in range(a,b) if x %2 ==0])\n",
        "      return a\n",
        "    else: \n",
        "      return 0\n",
        "    \n",
        "evensum(2,8)"
      ],
      "metadata": {
        "colab": {
          "base_uri": "https://localhost:8080/"
        },
        "id": "Mj4uIAcNKtqY",
        "outputId": "7492c84c-3bfa-452d-8b20-ab7edba1213c"
      },
      "execution_count": null,
      "outputs": [
        {
          "output_type": "execute_result",
          "data": {
            "text/plain": [
              "12"
            ]
          },
          "metadata": {},
          "execution_count": 35
        }
      ]
    },
    {
      "cell_type": "markdown",
      "source": [
        "### 13 - Convert a list of Celsius into Fahrenheit"
      ],
      "metadata": {
        "id": "PYbcn5pSuOa1"
      }
    },
    {
      "cell_type": "code",
      "source": [
        "# F = (9/5)*C + 32\n",
        "temp_c = [10,20,30,40,50]\n",
        "\n",
        "temp_f = list(map(lambda c: (9/5)*c + 32, temp_c))\n",
        "print(\"Temperature in Fahrenheit:\\n\",temp_f)"
      ],
      "metadata": {
        "colab": {
          "base_uri": "https://localhost:8080/"
        },
        "id": "F8wxmmpUuO9c",
        "outputId": "ed763d37-7735-4b72-be17-a98f04067e79"
      },
      "execution_count": null,
      "outputs": [
        {
          "output_type": "stream",
          "name": "stdout",
          "text": [
            "Temperature in Fahrenheit:\n",
            " [50.0, 68.0, 86.0, 104.0, 122.0]\n"
          ]
        }
      ]
    },
    {
      "cell_type": "markdown",
      "source": [
        "### 14 - Convert json data into parquet"
      ],
      "metadata": {
        "id": "P9XE_zHOwN2k"
      }
    },
    {
      "cell_type": "code",
      "source": [
        "import pyarrow\n",
        "import pyarrow.parquet as pq\n",
        "import pandas as pd\n",
        "import json\n",
        "\n",
        "l = ''.join(sorted)\n",
        "user_dict = json.loads(l)\n",
        "\n",
        "# Simply use `DataFrame.from_records`\n",
        "df = pd.DataFrame.from_records(user_dict)\n",
        "df"
      ],
      "metadata": {
        "colab": {
          "base_uri": "https://localhost:8080/",
          "height": 277
        },
        "id": "Mb4drYnNwsnH",
        "outputId": "323b8363-a534-420c-b953-b03dd591cb42"
      },
      "execution_count": null,
      "outputs": [
        {
          "output_type": "error",
          "ename": "TypeError",
          "evalue": "ignored",
          "traceback": [
            "\u001b[0;31m---------------------------------------------------------------------------\u001b[0m",
            "\u001b[0;31mTypeError\u001b[0m                                 Traceback (most recent call last)",
            "\u001b[0;32m<ipython-input-38-1bc4f943f9e2>\u001b[0m in \u001b[0;36m<module>\u001b[0;34m\u001b[0m\n\u001b[1;32m      4\u001b[0m \u001b[0;32mimport\u001b[0m \u001b[0mjson\u001b[0m\u001b[0;34m\u001b[0m\u001b[0;34m\u001b[0m\u001b[0m\n\u001b[1;32m      5\u001b[0m \u001b[0;34m\u001b[0m\u001b[0m\n\u001b[0;32m----> 6\u001b[0;31m \u001b[0ml\u001b[0m \u001b[0;34m=\u001b[0m \u001b[0;34m''\u001b[0m\u001b[0;34m.\u001b[0m\u001b[0mjoin\u001b[0m\u001b[0;34m(\u001b[0m\u001b[0msorted\u001b[0m\u001b[0;34m)\u001b[0m\u001b[0;34m\u001b[0m\u001b[0;34m\u001b[0m\u001b[0m\n\u001b[0m\u001b[1;32m      7\u001b[0m \u001b[0muser_dict\u001b[0m \u001b[0;34m=\u001b[0m \u001b[0mjson\u001b[0m\u001b[0;34m.\u001b[0m\u001b[0mloads\u001b[0m\u001b[0;34m(\u001b[0m\u001b[0ml\u001b[0m\u001b[0;34m)\u001b[0m\u001b[0;34m\u001b[0m\u001b[0;34m\u001b[0m\u001b[0m\n\u001b[1;32m      8\u001b[0m \u001b[0;34m\u001b[0m\u001b[0m\n",
            "\u001b[0;31mTypeError\u001b[0m: sequence item 0: expected str instance, dict found"
          ]
        }
      ]
    },
    {
      "cell_type": "markdown",
      "source": [
        "## Day - 5"
      ],
      "metadata": {
        "id": "nkA0shkKF8r-"
      }
    },
    {
      "cell_type": "markdown",
      "source": [
        "### 15 - Convert json file into parquet file"
      ],
      "metadata": {
        "id": "YPwT2urBVlb3"
      }
    },
    {
      "cell_type": "code",
      "source": [
        "!pip install pyspark\n",
        "from pyspark.sql import SparkSession\n",
        "\n",
        "spark = SparkSession \\\n",
        "    .builder \\\n",
        "    .appName(\"JsonToParquetPysparkExample\") \\\n",
        "    .getOrCreate()\n",
        "\n",
        "json_df = spark.read.json(\"grokfile.json\", multiLine=True,) \n",
        "json_df.printSchema()\n",
        "json_df.write.parquet(\"output.parquet\")"
      ],
      "metadata": {
        "colab": {
          "base_uri": "https://localhost:8080/"
        },
        "id": "4y6Zkir3CZWi",
        "outputId": "b59b713e-d2ee-424b-e45e-489b54d20d0e"
      },
      "execution_count": null,
      "outputs": [
        {
          "output_type": "stream",
          "name": "stdout",
          "text": [
            "Looking in indexes: https://pypi.org/simple, https://us-python.pkg.dev/colab-wheels/public/simple/\n",
            "Collecting pyspark\n",
            "  Downloading pyspark-3.3.1.tar.gz (281.4 MB)\n",
            "\u001b[K     |████████████████████████████████| 281.4 MB 28 kB/s \n",
            "\u001b[?25hCollecting py4j==0.10.9.5\n",
            "  Downloading py4j-0.10.9.5-py2.py3-none-any.whl (199 kB)\n",
            "\u001b[K     |████████████████████████████████| 199 kB 43.9 MB/s \n",
            "\u001b[?25hBuilding wheels for collected packages: pyspark\n",
            "  Building wheel for pyspark (setup.py) ... \u001b[?25l\u001b[?25hdone\n",
            "  Created wheel for pyspark: filename=pyspark-3.3.1-py2.py3-none-any.whl size=281845512 sha256=3352318b1a1a215b133818d5138cf17cb538806660a8d38e84453013d699123e\n",
            "  Stored in directory: /root/.cache/pip/wheels/43/dc/11/ec201cd671da62fa9c5cc77078235e40722170ceba231d7598\n",
            "Successfully built pyspark\n",
            "Installing collected packages: py4j, pyspark\n",
            "Successfully installed py4j-0.10.9.5 pyspark-3.3.1\n",
            "root\n",
            " |-- bytes: string (nullable = true)\n",
            " |-- ip: string (nullable = true)\n",
            " |-- port: string (nullable = true)\n",
            " |-- request: string (nullable = true)\n",
            " |-- status: string (nullable = true)\n",
            " |-- timestamp: string (nullable = true)\n",
            " |-- uri: string (nullable = true)\n",
            " |-- verb: string (nullable = true)\n",
            "\n"
          ]
        }
      ]
    },
    {
      "cell_type": "markdown",
      "source": [
        "### 16 - special assignment from google python code"
      ],
      "metadata": {
        "id": "B6WG9wHYVtWP"
      }
    },
    {
      "cell_type": "code",
      "source": [
        "import json\n",
        "import logging\n",
        "\n",
        "filename = '11. apache_logs.txt'\n",
        " \n",
        "def dateobject7(filename):\n",
        "\tdict1 = {}\n",
        "\twith open(filename) as fh:\n",
        "\t\tfor line in fh:\n",
        "\t\t\tcommand, description = line.strip().split(None, 1)\n",
        "\t\t\tdict1[command] = description.strip()\n",
        "\tout_file = open(\"test1.json\", \"w\")\n",
        "\tjson.dump(dict1, out_file, indent = 4, sort_keys = False)\n",
        "\tout_file.close()\n",
        "\n",
        "dateobject7(filename)"
      ],
      "metadata": {
        "id": "tTWrFdvlANPy"
      },
      "execution_count": null,
      "outputs": []
    }
  ]
}